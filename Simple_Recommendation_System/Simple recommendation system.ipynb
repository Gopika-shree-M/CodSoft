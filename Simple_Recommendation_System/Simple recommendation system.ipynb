{
 "cells": [
  {
   "cell_type": "markdown",
   "id": "6116b51a",
   "metadata": {},
   "source": [
    "# Movie recommendation system"
   ]
  },
  {
   "cell_type": "code",
   "execution_count": 11,
   "id": "faa163bd",
   "metadata": {},
   "outputs": [],
   "source": [
    "import numpy as np"
   ]
  },
  {
   "cell_type": "code",
   "execution_count": 2,
   "id": "5733bf50",
   "metadata": {},
   "outputs": [],
   "source": [
    "ratings_movies = np.array([\n",
    "    [5, 6, 0, 0, 0],\n",
    "    [0, 0, 5, 3, 0],\n",
    "    [0, 0, 0, 0, 5],\n",
    "    [4, 5, 0, 0, 0],\n",
    "    [0, 0, 4, 5, 0]\n",
    "])\n",
    "# each row is a user\n",
    "# each column is a movie\n",
    "# Each row represents a user's ratings for different movies"
   ]
  },
  {
   "cell_type": "code",
   "execution_count": 3,
   "id": "378447ae",
   "metadata": {},
   "outputs": [],
   "source": [
    "def cosine_similarity(matrix):\n",
    "    norm = np.linalg.norm(matrix, axis=1, keepdims=True)\n",
    "    normalized_matrix = matrix / (norm + 1e-8)\n",
    "    similarity_matrix = np.dot(normalized_matrix, normalized_matrix.T)\n",
    "    return similarity_matrix\n"
   ]
  },
  {
   "cell_type": "code",
   "execution_count": 4,
   "id": "029a915c",
   "metadata": {},
   "outputs": [],
   "source": [
    "similarity_matrix_movies = cosine_similarity(ratings_movies)"
   ]
  },
  {
   "cell_type": "code",
   "execution_count": 5,
   "id": "c00fac93",
   "metadata": {},
   "outputs": [],
   "source": [
    "def recommend_movies(user_index, ratings_matrix, similarity_matrix, num_recommendations=3):\n",
    "    user_ratings = ratings_matrix[user_index]\n",
    "    weighted_sum = np.dot(similarity_matrix[user_index], ratings_matrix)\n",
    "    normalized_weighted_sum = weighted_sum / (np.sum(similarity_matrix[user_index]) + 1e-8)\n",
    "    \n",
    "    # Filtering out movies the user has already rated\n",
    "    unrated_movies = np.where(user_ratings == 0)[0]\n",
    "    \n",
    "    # Sorting unrated movies based on their predicted ratings\n",
    "    recommended_movie_indices = np.argsort(normalized_weighted_sum[unrated_movies])[::-1][:num_recommendations]\n",
    "    recommended_ratings = normalized_weighted_sum[recommended_movie_indices]\n",
    "    \n",
    "    return recommended_movie_indices, recommended_ratings"
   ]
  },
  {
   "cell_type": "code",
   "execution_count": 6,
   "id": "e061b596",
   "metadata": {},
   "outputs": [],
   "source": [
    "user_index_movies = 0\n",
    "recommended_movies, predicted_ratings = recommend_movies(user_index_movies, ratings_movies, similarity_matrix_movies)"
   ]
  },
  {
   "cell_type": "code",
   "execution_count": 7,
   "id": "571a884a",
   "metadata": {},
   "outputs": [
    {
     "name": "stdout",
     "output_type": "stream",
     "text": [
      "Recommended movies for User 0\n",
      "Movie 2 with predicted rating 0.0\n",
      "Movie 1 with predicted rating 5.500049962569842\n",
      "Movie 0 with predicted rating 4.500049967570342\n"
     ]
    }
   ],
   "source": [
    "print(\"Recommended movies for User\", user_index_movies)\n",
    "for i, movie_index in enumerate(recommended_movies):\n",
    "    print(\"Movie\", movie_index, \"with predicted rating\", predicted_ratings[i])"
   ]
  },
  {
   "cell_type": "code",
   "execution_count": 8,
   "id": "779a891b",
   "metadata": {},
   "outputs": [],
   "source": [
    "user_index_movies = 3\n",
    "recommended_movies, predicted_ratings = recommend_movies(user_index_movies, ratings_movies, similarity_matrix_movies)"
   ]
  },
  {
   "cell_type": "code",
   "execution_count": 9,
   "id": "540a5dbc",
   "metadata": {},
   "outputs": [
    {
     "name": "stdout",
     "output_type": "stream",
     "text": [
      "Recommended movies for User 3\n",
      "Movie 2 with predicted rating 0.0\n",
      "Movie 1 with predicted rating 5.499949982565344\n",
      "Movie 0 with predicted rating 4.499949987565843\n"
     ]
    }
   ],
   "source": [
    "print(\"Recommended movies for User\", user_index_movies)\n",
    "for i, movie_index in enumerate(recommended_movies):\n",
    "    print(\"Movie\", movie_index, \"with predicted rating\", predicted_ratings[i])"
   ]
  },
  {
   "cell_type": "markdown",
   "id": "43f47120",
   "metadata": {},
   "source": [
    "# Book recommendation system"
   ]
  },
  {
   "cell_type": "code",
   "execution_count": 12,
   "id": "38a8bae6",
   "metadata": {},
   "outputs": [],
   "source": [
    "ratings_books = np.array([\n",
    "    [5, 4, 0, 0, 0],\n",
    "    [0, 0, 5, 4, 0],\n",
    "    [0, 0, 0, 0, 5],\n",
    "    [4, 5, 0, 0, 0],\n",
    "    [0, 0, 4, 5, 0]\n",
    "])"
   ]
  },
  {
   "cell_type": "code",
   "execution_count": 13,
   "id": "191d9c2f",
   "metadata": {},
   "outputs": [],
   "source": [
    "similarity_matrix_books = cosine_similarity(ratings_books)"
   ]
  },
  {
   "cell_type": "code",
   "execution_count": 14,
   "id": "68856604",
   "metadata": {},
   "outputs": [],
   "source": [
    "def recommend_books(user_index, ratings_matrix, similarity_matrix, num_recommendations=3):\n",
    "    user_ratings = ratings_matrix[user_index]\n",
    "    weighted_sum = np.dot(similarity_matrix[user_index], ratings_matrix)\n",
    "    normalized_weighted_sum = weighted_sum / (np.sum(similarity_matrix[user_index]) + 1e-8)\n",
    "    \n",
    "    # Filtering out books the user has already rated\n",
    "    unrated_books = np.where(user_ratings == 0)[0]\n",
    "    \n",
    "    # Sorting unrated books based on their predicted ratings\n",
    "    recommended_book_indices = np.argsort(normalized_weighted_sum[unrated_books])[::-1][:num_recommendations]\n",
    "    \n",
    "    return unrated_books[recommended_book_indices], normalized_weighted_sum[recommended_book_indices]\n"
   ]
  },
  {
   "cell_type": "code",
   "execution_count": 15,
   "id": "3659cd52",
   "metadata": {},
   "outputs": [],
   "source": [
    "user_index_books = 0\n",
    "recommended_books, predicted_ratings = recommend_books(user_index_books, ratings_books, similarity_matrix_books)"
   ]
  },
  {
   "cell_type": "code",
   "execution_count": 16,
   "id": "d15b2957",
   "metadata": {},
   "outputs": [
    {
     "name": "stdout",
     "output_type": "stream",
     "text": [
      "Recommended books for User 0\n",
      "Book 4 with predicted rating 0.0\n",
      "Book 3 with predicted rating 4.493827137747295\n",
      "Book 2 with predicted rating 4.50617281669715\n"
     ]
    }
   ],
   "source": [
    "print(\"Recommended books for User\", user_index_books)\n",
    "for i, book_index in enumerate(recommended_books):\n",
    "    print(\"Book\", book_index, \"with predicted rating\", predicted_ratings[i])"
   ]
  },
  {
   "cell_type": "code",
   "execution_count": 17,
   "id": "8533dd80",
   "metadata": {},
   "outputs": [],
   "source": [
    "user_index_books = 4\n",
    "recommended_books, predicted_ratings = recommend_books(user_index_books, ratings_books, similarity_matrix_books)"
   ]
  },
  {
   "cell_type": "code",
   "execution_count": 18,
   "id": "d6acb1d6",
   "metadata": {},
   "outputs": [
    {
     "name": "stdout",
     "output_type": "stream",
     "text": [
      "Recommended books for User 4\n",
      "Book 4 with predicted rating 4.493827137747295\n",
      "Book 1 with predicted rating 0.0\n",
      "Book 0 with predicted rating 0.0\n"
     ]
    }
   ],
   "source": [
    "print(\"Recommended books for User\", user_index_books)\n",
    "for i, book_index in enumerate(recommended_books):\n",
    "    print(\"Book\", book_index, \"with predicted rating\", predicted_ratings[i])"
   ]
  },
  {
   "cell_type": "code",
   "execution_count": null,
   "id": "aa32016e",
   "metadata": {},
   "outputs": [],
   "source": []
  }
 ],
 "metadata": {
  "kernelspec": {
   "display_name": "Python 3",
   "language": "python",
   "name": "python3"
  },
  "language_info": {
   "codemirror_mode": {
    "name": "ipython",
    "version": 3
   },
   "file_extension": ".py",
   "mimetype": "text/x-python",
   "name": "python",
   "nbconvert_exporter": "python",
   "pygments_lexer": "ipython3",
   "version": "3.11.3"
  }
 },
 "nbformat": 4,
 "nbformat_minor": 5
}
